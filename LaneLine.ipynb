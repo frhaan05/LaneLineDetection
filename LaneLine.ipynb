{
 "cells": [
  {
   "cell_type": "markdown",
   "metadata": {
    "id": "Enlg3KbMAmpR"
   },
   "source": [
    "# Finding Lane Lines on the Road\n",
    "***\n",
    "\n",
    "In this project, I used Python and OpenCV to find lane lines in the road images.  \n",
    "\n",
    "The following techniques are used:\n",
    "\n",
    "- Color Selection\n",
    "- Canny Edge Detection\n",
    "- Region of Interest Selection\n",
    "- Hough Transform Line Detection\n",
    "\n",
    "Finally, I applied all the techniques to process video clips to find lane lines in them."
   ]
  },
  {
   "cell_type": "code",
   "execution_count": null,
   "metadata": {
    "colab": {
     "base_uri": "https://localhost:8080/"
    },
    "id": "zj-g3SfmBUN_",
    "outputId": "0e9428a1-c5bd-4d33-a776-580755c0c3ae"
   },
   "outputs": [],
   "source": [
    "from google.colab import drive\n",
    "drive.mount('/content/drive')"
   ]
  },
  {
   "cell_type": "markdown",
   "metadata": {
    "id": "H4sdGRKmAmpX"
   },
   "source": [
    "## Loading Test Images\n",
    "\n",
    "The following libraries are used.  `cv2` is for OpenCV."
   ]
  },
  {
   "cell_type": "code",
   "execution_count": null,
   "metadata": {
    "ExecuteTime": {
     "end_time": "2016-12-02T16:49:36.582538",
     "start_time": "2016-12-02T16:49:34.592060"
    },
    "id": "AXtlg5J_AmpY"
   },
   "outputs": [],
   "source": [
    "import matplotlib.pyplot as plt\n",
    "import cv2\n",
    "import os, glob\n",
    "import numpy as np\n",
    "from moviepy.editor import VideoFileClip\n",
    "\n",
    "%matplotlib inline\n",
    "%config InlineBackend.figure_format = 'retina'"
   ]
  },
  {
   "cell_type": "markdown",
   "metadata": {
    "id": "mga9faguAmpa"
   },
   "source": [
    "The following `show_image` function is used to display images."
   ]
  },
  {
   "cell_type": "code",
   "execution_count": null,
   "metadata": {
    "id": "NEviNavKAmpa"
   },
   "outputs": [],
   "source": [
    "def show_images(images, cmap=None):\n",
    "    cols = 2\n",
    "    rows = (len(images)+1)//cols\n",
    "\n",
    "    plt.figure(figsize=(10, 11))\n",
    "    for i, image in enumerate(images):\n",
    "        plt.subplot(rows, cols, i+1)\n",
    "        # use gray scale color map if there is only one channel\n",
    "        cmap = 'gray' if len(image.shape)==2 else cmap\n",
    "        plt.imshow(image, cmap=cmap)\n",
    "        plt.xticks([])\n",
    "        plt.yticks([])\n",
    "    plt.tight_layout(pad=0, h_pad=0, w_pad=0)\n",
    "    plt.show()"
   ]
  },
  {
   "cell_type": "markdown",
   "metadata": {
    "id": "fzU7kalSAmpb"
   },
   "source": [
    "Let's load and examine the test images."
   ]
  },
  {
   "cell_type": "code",
   "execution_count": null,
   "metadata": {
    "colab": {
     "base_uri": "https://localhost:8080/",
     "height": 1000
    },
    "id": "8u97-o2qAmpc",
    "outputId": "4e73c03b-a56c-4a03-b916-88242d7744bb"
   },
   "outputs": [],
   "source": [
    "test_images = [plt.imread(path) for path in glob.glob('/content/drive/MyDrive/car-finding-lane-lines-master/test_images/*.jpg')]\n",
    "\n",
    "show_images(test_images)"
   ]
  },
  {
   "cell_type": "markdown",
   "metadata": {
    "id": "VqPhLyaXAmpd"
   },
   "source": [
    "Lines are in white or yellow.  A white lane is a series of alternating dots and short lines, which we need to detect as one line."
   ]
  },
  {
   "cell_type": "markdown",
   "metadata": {
    "id": "Ut33zAo2Ampd"
   },
   "source": [
    "## Color Selection\n",
    "\n",
    "### RGB Color Space\n",
    "\n",
    "The images are loaded in RGB color space.  Let's try selecting only yellow and white colors in the images using the RGB channels.\n",
    "\n",
    "Reference: [RGB Color Code Chart](http://www.rapidtables.com/web/color/RGB_Color.htm)"
   ]
  },
  {
   "cell_type": "code",
   "execution_count": null,
   "metadata": {
    "colab": {
     "base_uri": "https://localhost:8080/",
     "height": 1000
    },
    "id": "6PSbGboYAmpd",
    "outputId": "fb8ff49a-ce5f-4ce7-eb85-2cc3bcb4005f"
   },
   "outputs": [],
   "source": [
    "# image is expected be in RGB color space\n",
    "def select_rgb_white_yellow(image):\n",
    "    # white color mask\n",
    "    lower = np.uint8([200, 200, 200])\n",
    "    upper = np.uint8([255, 255, 255])\n",
    "    white_mask = cv2.inRange(image, lower, upper)\n",
    "    # yellow color mask\n",
    "    lower = np.uint8([190, 190,   0])\n",
    "    upper = np.uint8([255, 255, 255])\n",
    "    yellow_mask = cv2.inRange(image, lower, upper)\n",
    "    # combine the mask\n",
    "    mask = cv2.bitwise_or(white_mask, yellow_mask)\n",
    "    masked = cv2.bitwise_and(image, image, mask = mask)\n",
    "    return masked\n",
    "\n",
    "show_images(list(map(select_rgb_white_yellow, test_images)))"
   ]
  },
  {
   "cell_type": "markdown",
   "metadata": {
    "id": "dwrRIPzSAmpe"
   },
   "source": [
    "It looks pretty good except the last two.  The yellow lines are not clear due to the dark shade from the tree on the left."
   ]
  },
  {
   "cell_type": "markdown",
   "metadata": {
    "id": "4ujNVIuwAmpe"
   },
   "source": [
    "### HSL and HSV Color Space\n",
    "\n",
    "Using `cv2.cvtColor`, we can convert RGB image into different color space.  For example, [HSL and HSV color space](https://en.wikipedia.org/wiki/HSL_and_HSV).\n",
    "\n",
    "<img src='images/hsl-hsv.png' width='50%'>\n",
    "\n",
    "Image Source: [https://commons.wikimedia.org/wiki/File:Hsl-hsv_models.svg](https://commons.wikimedia.org/wiki/File:Hsl-hsv_models.svg)"
   ]
  },
  {
   "cell_type": "markdown",
   "metadata": {
    "id": "PMrtfPjVAmpe"
   },
   "source": [
    "### HSV Color Space\n",
    "\n",
    "How does it look when RGB images are converted into HSV color space?"
   ]
  },
  {
   "cell_type": "code",
   "execution_count": null,
   "metadata": {
    "colab": {
     "base_uri": "https://localhost:8080/",
     "height": 1000
    },
    "id": "PU3V7ICtAmpe",
    "outputId": "bad33120-4223-4f92-8da7-cdb3c9e5360a"
   },
   "outputs": [],
   "source": [
    "def convert_hsv(image):\n",
    "    return cv2.cvtColor(image, cv2.COLOR_RGB2HSV)\n",
    "\n",
    "show_images(list(map(convert_hsv, test_images)))"
   ]
  },
  {
   "cell_type": "markdown",
   "metadata": {
    "id": "a0TDqyKGAmpf"
   },
   "source": [
    "The yellow lines are very clear including the ones under the shades but the white lines are less clear."
   ]
  },
  {
   "cell_type": "markdown",
   "metadata": {
    "id": "mYQPmiBEAmpf"
   },
   "source": [
    "### HSL Color Space\n",
    "\n",
    "How does it look like when images are converted from RGB to HSL color space?"
   ]
  },
  {
   "cell_type": "code",
   "execution_count": null,
   "metadata": {
    "colab": {
     "base_uri": "https://localhost:8080/",
     "height": 1000
    },
    "id": "UhVdujDoAmpf",
    "outputId": "5c958d0f-8bbc-418e-d49d-a8863ba3d5b7"
   },
   "outputs": [],
   "source": [
    "def convert_hls(image):\n",
    "    return cv2.cvtColor(image, cv2.COLOR_RGB2HLS)\n",
    "\n",
    "show_images(list(map(convert_hls, test_images)))"
   ]
  },
  {
   "cell_type": "markdown",
   "metadata": {
    "id": "_cqz_60JAmpf"
   },
   "source": [
    "Both the white and yellow lines are clearly recognizable.  Also, the yellow lines under the shades are clearly shown."
   ]
  },
  {
   "cell_type": "markdown",
   "metadata": {
    "id": "E-e0KTLZAmpf"
   },
   "source": [
    "Let's build a filter to select those white and yellow lines.  I want to select particular range of each channels (Hue, Saturation and Light).\n",
    "\n",
    "- Use `cv2.inRange` to filter the white color and the yellow color seperately.  \n",
    "  The function returns 255 when the filter conditon is satisfied.  Otherwise, it returns 0.\n",
    "- Use `cv2.bitwise_or` to combine these two binary masks.  \n",
    "  The combined mask returns 255 when either white or yellow color is detected.\n",
    "- Use `cv2.bitwise_and` to apply the combined mask onto the original RGB image"
   ]
  },
  {
   "cell_type": "code",
   "execution_count": null,
   "metadata": {
    "colab": {
     "base_uri": "https://localhost:8080/",
     "height": 1000
    },
    "id": "ydELbwZZAmpf",
    "outputId": "dd0f4105-db39-4568-aa62-6d5ab7aaa308"
   },
   "outputs": [],
   "source": [
    "def select_white_yellow(image):\n",
    "    converted = convert_hls(image)\n",
    "    # white color mask\n",
    "    lower = np.uint8([  0, 200,   0])\n",
    "    upper = np.uint8([255, 255, 255])\n",
    "    white_mask = cv2.inRange(converted, lower, upper)\n",
    "    # yellow color mask\n",
    "    lower = np.uint8([ 10,   0, 100])\n",
    "    upper = np.uint8([ 40, 255, 255])\n",
    "    yellow_mask = cv2.inRange(converted, lower, upper)\n",
    "    # combine the mask\n",
    "    mask = cv2.bitwise_or(white_mask, yellow_mask)\n",
    "    return cv2.bitwise_and(image, image, mask = mask)\n",
    "\n",
    "white_yellow_images = list(map(select_white_yellow, test_images))\n",
    "\n",
    "show_images(white_yellow_images)"
   ]
  },
  {
   "cell_type": "markdown",
   "metadata": {
    "id": "-aFEjVZwAmpg"
   },
   "source": [
    "For the white color,\n",
    "- I chose high **Light** value.\n",
    "- I did not filter **Hue**, **Saturation** values.\n",
    "  \n",
    "For the yellow color,\n",
    "- I chose **Hue** around 30 to choose yellow color.\n",
    "- I chose relatively high **Saturation** to exclude yellow hills\n",
    "\n",
    "The combined mask filters the yellow and white lines very clearly."
   ]
  },
  {
   "cell_type": "markdown",
   "metadata": {
    "id": "mi76XB0hAmpg"
   },
   "source": [
    "## Canny Edge Detection\n",
    "\n",
    "  \n",
    "\n",
    "We want to detect edges in order to find straight lines especially lane lines.  For this,\n",
    "\n",
    "- use `cv2.cvtColor` to convert images into gray scale\n",
    "- use `cv2.GaussianBlur` to smooth out rough edges\n",
    "- use `cv2.Canny` to find edges\n",
    "\n",
    "Let's take a look at each step in details.\n",
    "\n",
    "Note: [Canny Edge Detection Wikipedia](https://en.wikipedia.org/wiki/Canny_edge_detector) has a good description in good details.\n",
    "\n"
   ]
  },
  {
   "cell_type": "markdown",
   "metadata": {
    "id": "rz_4WQfdAmpg"
   },
   "source": [
    "### Gray Scaling\n",
    "\n",
    "The images should be converted into gray scaled ones in order to detect shapes (edges) in the images.  This is because the Canny edge detection measures the magnitude of pixel intensity changes or gradients (more on this later).\n",
    "\n",
    "Here, I'm converting the white and yellow line images from the above into gray scale for edge detection."
   ]
  },
  {
   "cell_type": "code",
   "execution_count": null,
   "metadata": {
    "colab": {
     "base_uri": "https://localhost:8080/",
     "height": 1000
    },
    "id": "H16J_kNYAmpg",
    "outputId": "def7e0c7-b86f-43c6-9d7d-8791b31a7ad9"
   },
   "outputs": [],
   "source": [
    "def convert_gray_scale(image):\n",
    "    return cv2.cvtColor(image, cv2.COLOR_RGB2GRAY)\n",
    "\n",
    "gray_images = list(map(convert_gray_scale, white_yellow_images))\n",
    "\n",
    "show_images(gray_images)"
   ]
  },
  {
   "cell_type": "markdown",
   "metadata": {
    "id": "qBpdWMH2Ampg"
   },
   "source": [
    "### Gaussian Smoothing (Gaussian Blur)\n",
    "\n",
    "When there is an edge (i.e. a line), the pixel intensity changes rapidly (i.e. from 0 to 255) which we want to detect.  But before doing so, we should make the edges smoother.  As you can see,  the above images have many rough edges which causes many noisy edges to be detected.\n",
    "\n",
    "I use `cv2.GaussianBlur` to smooth out edges.\n",
    "\n",
    "- [Gaussian Filter OpenCV Theory](http://docs.opencv.org/doc/tutorials/imgproc/gausian_median_blur_bilateral_filter/gausian_median_blur_bilateral_filter.html#gaussian-filter)\n",
    "- [cv2.GaussianBlur OpenCV API Reference](http://docs.opencv.org/modules/imgproc/doc/filtering.html?highlight=gaussianblur#gaussianblur)"
   ]
  },
  {
   "cell_type": "code",
   "execution_count": null,
   "metadata": {
    "id": "Z7ALzS39Amph"
   },
   "outputs": [],
   "source": [
    "def apply_smoothing(image, kernel_size=15):\n",
    "    \"\"\"\n",
    "    kernel_size must be postivie and odd\n",
    "    \"\"\"\n",
    "    return cv2.GaussianBlur(image, (kernel_size, kernel_size), 0)"
   ]
  },
  {
   "cell_type": "markdown",
   "metadata": {
    "id": "RWEqTGd6Amph"
   },
   "source": [
    "The GaussianBlur takes a `kernel_size` parameter which you'll need to play with to find one that works best.  I tried 3, 5, 9, 11, 15, 17 (they must be positive and odd) and check the edge detection (see the next section) result.  The bigger the `kernel_size` value is,  the more blurry the image becomes.  \n",
    "\n",
    "The bigger `kearnel_size` value requires more time to process. It is not noticeable with the test images but we should keep that in mind (later we'll be processing video clips).  So, we should prefer smaller values if the effect is similar."
   ]
  },
  {
   "cell_type": "code",
   "execution_count": null,
   "metadata": {
    "colab": {
     "base_uri": "https://localhost:8080/",
     "height": 1000
    },
    "id": "ANkIeC1RAmph",
    "outputId": "5cf45e9f-b129-4665-b039-421f7a2bd61c"
   },
   "outputs": [],
   "source": [
    "blurred_images = list(map(lambda image: apply_smoothing(image), gray_images))\n",
    "\n",
    "show_images(blurred_images)"
   ]
  },
  {
   "cell_type": "markdown",
   "metadata": {
    "id": "iMC3tmfsAmph"
   },
   "source": [
    "### Edge Detection\n",
    "\n",
    "`cv2.Canny` takes two threshold values which requires some explanation.\n",
    "\n",
    "Wikipedia says:\n",
    "\n",
    "> it is essential to filter out the edge pixel with the weak gradient value and preserve the edge with the high gradient value. Thus two threshold values are set to clarify the different types of edge pixels, one is called high threshold value and the other is called the low threshold value. If the edge pixel’s gradient value is higher than the high threshold value, they are marked as strong edge pixels. If the edge pixel’s gradient value is smaller than the high threshold value and larger than the low threshold value, they are marked as weak edge pixels. If the pixel value is smaller than the low threshold value, they will be suppressed.\n",
    "\n",
    "According to the OpenCV documentation, the double thresholds are used as follows:\n",
    "\n",
    "- If a pixel gradient is higher than the upper threshold, the pixel is accepted as an edge\n",
    "- If a pixel gradient value is below the lower threshold, then it is rejected.\n",
    "- If the pixel gradient is between the two thresholds, then it will be accepted only if it is connected to a pixel that is above the upper threshold.\n",
    "- Canny recommended a upper:lower ratio between 2:1 and 3:1.\n",
    "\n",
    "These two threshold values are empirically determined.  Basically, you will need to define them by trials and errors.\n",
    "\n",
    "I first set the `low_threshold` to zero and then adjust the `high_threshold`.   If `high_threshold` is too high, you find no edges.  If `high_threshold` is too low, you find too many edges.  Once you find a good `high_threshold`, adjust the `low_threshold` to discard the weak edges (noises) connected to the strong edges.\n",
    "\n",
    "- [Canny Edge Detection OpenCV Theory](http://docs.opencv.org/2.4/doc/tutorials/imgproc/imgtrans/canny_detector/canny_detector.html)\n",
    "- [cv2.Canny OpenCV API Reference](http://docs.opencv.org/doc/tutorials/imgproc/imgtrans/canny_detector/canny_detector.html)"
   ]
  },
  {
   "cell_type": "code",
   "execution_count": null,
   "metadata": {
    "colab": {
     "base_uri": "https://localhost:8080/",
     "height": 1000
    },
    "id": "ay76keodAmpi",
    "outputId": "94ffe387-8139-455f-c8f4-45c7dfb02179"
   },
   "outputs": [],
   "source": [
    "def detect_edges(image, low_threshold=50, high_threshold=150):\n",
    "    return cv2.Canny(image, low_threshold, high_threshold)\n",
    "\n",
    "edge_images = list(map(lambda image: detect_edges(image), blurred_images))\n",
    "\n",
    "show_images(edge_images)"
   ]
  },
  {
   "cell_type": "markdown",
   "metadata": {
    "id": "Ks3eW6_tAmpi"
   },
   "source": [
    "## Region of Interest Selection\n",
    "\n",
    "When finding lane lines, we don't need to check the sky and the hills.  \n",
    "\n",
    "Roughly speaking, we are interested in the aread surrounded by the red lines below:\n",
    "\n",
    "<img src='images/region-of-interest.png' width='50%'/>\n",
    "\n",
    "So, we exclude outside the region of interest by apply a mask.\n",
    "\n",
    "- [cv2.fillPoly OpenCV API Reference](http://docs.opencv.org/modules/core/doc/drawing_functions.html#fillpoly)"
   ]
  },
  {
   "cell_type": "code",
   "execution_count": null,
   "metadata": {
    "colab": {
     "base_uri": "https://localhost:8080/",
     "height": 1000
    },
    "id": "ObmjLMhJAmpj",
    "outputId": "dba7c5f2-a02f-4209-c737-f4749507aca0"
   },
   "outputs": [],
   "source": [
    "def filter_region(image, vertices):\n",
    "    \"\"\"\n",
    "    Create the mask using the vertices and apply it to the input image\n",
    "    \"\"\"\n",
    "    mask = np.zeros_like(image)\n",
    "    if len(mask.shape)==2:\n",
    "        cv2.fillPoly(mask, vertices, 255)\n",
    "    else:\n",
    "        cv2.fillPoly(mask, vertices, (255,)*mask.shape[2]) # in case, the input image has a channel dimension\n",
    "    return cv2.bitwise_and(image, mask)\n",
    "\n",
    "\n",
    "def select_region(image):\n",
    "    \"\"\"\n",
    "    It keeps the region surrounded by the `vertices` (i.e. polygon).  Other area is set to 0 (black).\n",
    "    \"\"\"\n",
    "    # first, define the polygon by vertices\n",
    "    rows, cols = image.shape[:2]\n",
    "    bottom_left  = [cols*0.1, rows*0.95]\n",
    "    top_left     = [cols*0.4, rows*0.6]\n",
    "    bottom_right = [cols*0.9, rows*0.95]\n",
    "    top_right    = [cols*0.6, rows*0.6]\n",
    "    # the vertices are an array of polygons (i.e array of arrays) and the data type must be integer\n",
    "    vertices = np.array([[bottom_left, top_left, top_right, bottom_right]], dtype=np.int32)\n",
    "    return filter_region(image, vertices)\n",
    "\n",
    "\n",
    "# images showing the region of interest only\n",
    "roi_images = list(map(select_region, edge_images))\n",
    "\n",
    "show_images(roi_images)"
   ]
  },
  {
   "cell_type": "markdown",
   "metadata": {
    "id": "3doaiFeTAmpj"
   },
   "source": [
    "Now we have lane lines but we need to recognize them as lines.  Especially, two lines: the left lane and the right lane."
   ]
  },
  {
   "cell_type": "markdown",
   "metadata": {
    "id": "1yo2fjeuAmpj"
   },
   "source": [
    "## Hough Transform Line Detection\n",
    "\n",
    "I'm using `cv2.HoughLinesP` to detect lines in the edge images.\n",
    "\n",
    "There are several parameters you'll need to tweak and tune:\n",
    "\n",
    "- rho – Distance resolution of the accumulator in pixels.\n",
    "- theta – Angle resolution of the accumulator in radians.\n",
    "- threshold – Accumulator threshold parameter. Only those lines are returned that get enough votes (> `threshold`).\n",
    "- minLineLength – Minimum line length. Line segments shorter than that are rejected.\n",
    "- maxLineGap – Maximum allowed gap between points on the same line to link them.\n",
    "\n",
    "More details can be found:\n",
    "\n",
    "- [Hough Line Transform OpenCV Theory](http://docs.opencv.org/doc/tutorials/imgproc/imgtrans/hough_lines/hough_lines.html)\n",
    "- [cv.HoughLinesP OpenCV API Reference](http://docs.opencv.org/modules/imgproc/doc/feature_detection.html?highlight=houghlinesp#houghlinesp)"
   ]
  },
  {
   "cell_type": "code",
   "execution_count": null,
   "metadata": {
    "id": "lpzPak4ZAmpj"
   },
   "outputs": [],
   "source": [
    "def hough_lines(image):\n",
    "    \"\"\"\n",
    "    `image` should be the output of a Canny transform.\n",
    "\n",
    "    Returns hough lines (not the image with lines)\n",
    "    \"\"\"\n",
    "    return cv2.HoughLinesP(image, rho=1, theta=np.pi/180, threshold=20, minLineLength=20, maxLineGap=300)\n",
    "\n",
    "\n",
    "list_of_lines = list(map(hough_lines, roi_images))"
   ]
  },
  {
   "cell_type": "markdown",
   "metadata": {
    "id": "oQqLr6zPAmpj"
   },
   "source": [
    "`list_of_lines` contains a list of lines detected.  With the above parameters, approximately 5-15 lines are detected for each image.\n",
    "\n",
    "Let's draw the lines onto the original images.  "
   ]
  },
  {
   "cell_type": "code",
   "execution_count": null,
   "metadata": {
    "colab": {
     "base_uri": "https://localhost:8080/",
     "height": 1000
    },
    "id": "dQdvmM0WAmpk",
    "outputId": "461d6eb5-5dc8-4c8a-e398-35f769435d19"
   },
   "outputs": [],
   "source": [
    "def draw_lines(image, lines, color=[255, 0, 0], thickness=2, make_copy=True):\n",
    "    # the lines returned by cv2.HoughLinesP has the shape (-1, 1, 4)\n",
    "    if make_copy:\n",
    "        image = np.copy(image) # don't want to modify the original\n",
    "    for line in lines:\n",
    "        for x1,y1,x2,y2 in line:\n",
    "            cv2.line(image, (x1, y1), (x2, y2), color, thickness)\n",
    "    return image\n",
    "\n",
    "\n",
    "line_images = []\n",
    "for image, lines in (test_images, list_of_lines):\n",
    "    line_images.append(draw_lines(image, lines))\n",
    "\n",
    "show_images(line_images)"
   ]
  },
  {
   "cell_type": "markdown",
   "metadata": {
    "id": "cOEoUHRVAmpk"
   },
   "source": [
    "### Averaging and Extrapolating Lines\n",
    "\n",
    "There are multiple lines detected for a lane line.  We should come up with an averaged line for that.\n",
    "\n",
    "Also, some lane lines are only partially recognized.  We should extrapolate the line to cover full lane line length.\n",
    "\n",
    "We want two lane lines: one for the left and the other for the right.  The left lane should have a positive slope, and the right lane should have a negative slope.  Therefore, we'll collect positive slope lines and negative slope lines separately and take averages.\n",
    "\n",
    "Note: in the image, `y` coordinate is reversed.  The higher `y` value is actually lower in the image.  Therefore, the slope is negative for the left lane, and the slope is positive for the right lane."
   ]
  },
  {
   "cell_type": "code",
   "execution_count": null,
   "metadata": {
    "id": "wRVSu-v8Ampk"
   },
   "outputs": [],
   "source": [
    "def average_slope_intercept(lines):\n",
    "    left_lines    = [] # (slope, intercept)\n",
    "    left_weights  = [] # (length,)\n",
    "    right_lines   = [] # (slope, intercept)\n",
    "    right_weights = [] # (length,)\n",
    "\n",
    "    for line in lines:\n",
    "        for x1, y1, x2, y2 in line:\n",
    "            if x2==x1:\n",
    "                continue # ignore a vertical line\n",
    "            slope = (y2-y1)/(x2-x1)\n",
    "            intercept = y1 - slope*x1\n",
    "            length = np.sqrt((y2-y1)**2+(x2-x1)**2)\n",
    "            if slope < 0: # y is reversed in image\n",
    "                left_lines.append((slope, intercept))\n",
    "                left_weights.append((length))\n",
    "            else:\n",
    "                right_lines.append((slope, intercept))\n",
    "                right_weights.append((length))\n",
    "\n",
    "    # add more weight to longer lines\n",
    "    left_lane  = np.dot(left_weights,  left_lines) /np.sum(left_weights)  if len(left_weights) >0 else None\n",
    "    right_lane = np.dot(right_weights, right_lines)/np.sum(right_weights) if len(right_weights)>0 else None\n",
    "\n",
    "    return left_lane, right_lane # (slope, intercept), (slope, intercept)"
   ]
  },
  {
   "cell_type": "markdown",
   "metadata": {
    "id": "PFHdY2ISAmpp"
   },
   "source": [
    "Using the above `average_lines` function, we can calculate average slope and intercept for the left and right lanes of each image.  \n",
    "\n",
    "Let's draw the lanes.  I need to convert the slope and intercept into pixel points."
   ]
  },
  {
   "cell_type": "code",
   "execution_count": null,
   "metadata": {
    "id": "e1dzLuP1Ampp"
   },
   "outputs": [],
   "source": [
    "def make_line_points(y1, y2, line):\n",
    "    \"\"\"\n",
    "    Convert a line represented in slope and intercept into pixel points\n",
    "    \"\"\"\n",
    "    if line is None:\n",
    "        return None\n",
    "\n",
    "    slope, intercept = line\n",
    "\n",
    "    # make sure everything is integer as cv2.line requires it\n",
    "    x1 = int((y1 - intercept)/slope)\n",
    "    x2 = int((y2 - intercept)/slope)\n",
    "    y1 = int(y1)\n",
    "    y2 = int(y2)\n",
    "\n",
    "    return ((x1, y1), (x2, y2))"
   ]
  },
  {
   "cell_type": "markdown",
   "metadata": {
    "id": "mb20Mw2jAmpp"
   },
   "source": [
    "Our `draw_lines` except a list of lines as the second parameter.  Each line is a list of 4 values (x1, y1, x2, y2).  The data type needs to be integer for `cv2.line` to work without throwing an error."
   ]
  },
  {
   "cell_type": "code",
   "execution_count": null,
   "metadata": {
    "colab": {
     "base_uri": "https://localhost:8080/",
     "height": 1000
    },
    "id": "ixVP63k2Ampq",
    "outputId": "bb795bcf-487c-44eb-9e34-52209a6a8c9b"
   },
   "outputs": [],
   "source": [
    "def lane_lines(image, lines):\n",
    "    left_lane, right_lane = average_slope_intercept(lines)\n",
    "\n",
    "    y1 = image.shape[0] # bottom of the image\n",
    "    y2 = y1*0.6         # slightly lower than the middle\n",
    "\n",
    "    left_line  = make_line_points(y1, y2, left_lane)\n",
    "    right_line = make_line_points(y1, y2, right_lane)\n",
    "\n",
    "    return left_line, right_line\n",
    "\n",
    "\n",
    "def draw_lane_lines(image, lines, color=[255, 0, 0], thickness=20):\n",
    "    # make a separate image to draw lines and combine with the orignal later\n",
    "    line_image = np.zeros_like(image)\n",
    "    for line in lines:\n",
    "        if line is not None:\n",
    "            cv2.line(line_image, *line,  color, thickness)\n",
    "    # image1 * α + image2 * β + λ\n",
    "    # image1 and image2 must be the same shape.\n",
    "    return cv2.addWeighted(image, 1.0, line_image, 0.95, 0.0)\n",
    "\n",
    "\n",
    "lane_images = []\n",
    "for image, lines in zip(test_images, list_of_lines):\n",
    "    lane_images.append(draw_lane_lines(image, lane_lines(image, lines)))\n",
    "\n",
    "\n",
    "show_images(lane_images)"
   ]
  },
  {
   "cell_type": "markdown",
   "metadata": {
    "id": "zuJKZvkYAmpq"
   },
   "source": [
    "## Video Clips\n",
    "\n",
    "I'm drwaing lanes on video clips."
   ]
  },
  {
   "cell_type": "code",
   "execution_count": null,
   "metadata": {
    "ExecuteTime": {
     "end_time": "2016-12-02T16:49:43.976375",
     "start_time": "2016-12-02T16:49:43.965842"
    },
    "id": "pbEdEOMfAmpq"
   },
   "outputs": [],
   "source": [
    "from collections import deque\n",
    "\n",
    "QUEUE_LENGTH=50\n",
    "\n",
    "class LaneDetector:\n",
    "    def __init__(self):\n",
    "        self.left_lines  = deque(maxlen=QUEUE_LENGTH)\n",
    "        self.right_lines = deque(maxlen=QUEUE_LENGTH)\n",
    "\n",
    "    def process(self, image):\n",
    "        white_yellow = select_white_yellow(image)\n",
    "        gray         = convert_gray_scale(white_yellow)\n",
    "        smooth_gray  = apply_smoothing(gray)\n",
    "        edges        = detect_edges(smooth_gray)\n",
    "        regions      = select_region(edges)\n",
    "        lines        = hough_lines(regions)\n",
    "        left_line, right_line = lane_lines(image, lines)\n",
    "\n",
    "        def mean_line(line, lines):\n",
    "            if line is not None:\n",
    "                lines.append(line)\n",
    "\n",
    "            if len(lines)>0:\n",
    "                line = np.mean(lines, axis=0, dtype=np.int32)\n",
    "                line = tuple(map(tuple, line)) # make sure it's tuples not numpy array for cv2.line to work\n",
    "            return line\n",
    "\n",
    "        left_line  = mean_line(left_line,  self.left_lines)\n",
    "        right_line = mean_line(right_line, self.right_lines)\n",
    "\n",
    "        return draw_lane_lines(image, (left_line, right_line))"
   ]
  },
  {
   "cell_type": "markdown",
   "metadata": {
    "id": "I9VgVO0PAmpq"
   },
   "source": [
    "Let's try the one with the solid white lane on the right first ..."
   ]
  },
  {
   "cell_type": "code",
   "execution_count": null,
   "metadata": {
    "ExecuteTime": {
     "end_time": "2016-12-02T16:50:04.195890",
     "start_time": "2016-12-02T16:49:43.981206"
    },
    "id": "77lZG4SXAmpq"
   },
   "outputs": [],
   "source": [
    "def process_video(video_input, video_output):\n",
    "    detector = LaneDetector()\n",
    "\n",
    "    clip = VideoFileClip(os.path.join('test_videos', video_input))\n",
    "    processed = clip.fl_image(detector.process)\n",
    "    processed.write_videofile(os.path.join('output_videos', video_output), audio=False)"
   ]
  },
  {
   "cell_type": "code",
   "execution_count": null,
   "metadata": {
    "id": "CPWr5gT0Dl3e"
   },
   "outputs": [],
   "source": [
    "def process_video(video_input, video_output):\n",
    "    detector = LaneDetector()\n",
    "\n",
    "    # Define the output directory path\n",
    "    output_dir = 'output_videos'\n",
    "    # Create the output directory if it doesn't exist\n",
    "    os.makedirs(output_dir, exist_ok=True)\n",
    "\n",
    "    clip = VideoFileClip(os.path.join('/content/drive/MyDrive/car-finding-lane-lines-master/test_videos', video_input))\n",
    "    processed = clip.fl_image(detector.process)\n",
    "    # Construct the full output path\n",
    "    output_path = os.path.join(output_dir, video_output)\n",
    "    processed.write_videofile(output_path, audio=False)"
   ]
  },
  {
   "cell_type": "code",
   "execution_count": null,
   "metadata": {
    "ExecuteTime": {
     "end_time": "2016-12-02T16:50:55.379031",
     "start_time": "2016-12-02T16:50:04.217967"
    },
    "colab": {
     "base_uri": "https://localhost:8080/"
    },
    "id": "OEccgYpTAmpr",
    "outputId": "c000a45b-d10c-452d-ba4c-c7c58a06976a"
   },
   "outputs": [],
   "source": [
    "%time process_video('/content/drive/MyDrive/car-finding-lane-lines-master/test_videos/solidWhiteRight.mp4', 'white.mp4')"
   ]
  },
  {
   "cell_type": "code",
   "execution_count": null,
   "metadata": {
    "colab": {
     "base_uri": "https://localhost:8080/"
    },
    "id": "xpeH2Iw2Ampr",
    "outputId": "3ffb9fa8-ab12-4377-f8c5-9702c6016df9"
   },
   "outputs": [],
   "source": [
    "%time process_video('/content/drive/MyDrive/car-finding-lane-lines-master/test_videos/solidYellowLeft.mp4', 'yellow.mp4')"
   ]
  },
  {
   "cell_type": "code",
   "execution_count": null,
   "metadata": {
    "colab": {
     "base_uri": "https://localhost:8080/"
    },
    "id": "gIuklS81Ampr",
    "outputId": "bfc68948-3a09-4cb2-afdc-7de5f1be2afe"
   },
   "outputs": [],
   "source": [
    "%time process_video('/content/drive/MyDrive/car-finding-lane-lines-master/test_videos/challenge.mp4', 'extra.mp4')"
   ]
  }
 ],
 "metadata": {
  "anaconda-cloud": {},
  "colab": {
   "provenance": [],
   "toc_visible": true
  },
  "kernelspec": {
   "display_name": "Python 3 (ipykernel)",
   "language": "python",
   "name": "python3"
  },
  "language_info": {
   "codemirror_mode": {
    "name": "ipython",
    "version": 3
   },
   "file_extension": ".py",
   "mimetype": "text/x-python",
   "name": "python",
   "nbconvert_exporter": "python",
   "pygments_lexer": "ipython3",
   "version": "3.12.11"
  },
  "latex_envs": {
   "bibliofile": "biblio.bib",
   "cite_by": "apalike",
   "current_citInitial": 1,
   "eqLabelWithNumbers": true,
   "eqNumInitial": 0
  }
 },
 "nbformat": 4,
 "nbformat_minor": 4
}
